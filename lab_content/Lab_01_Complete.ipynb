{
 "cells": [
  {
   "cell_type": "markdown",
   "source": [
    "# Lab 1 - Python Crash Course Pt.1\n"
   ],
   "metadata": {
    "tags": []
   }
  },
  {
   "cell_type": "markdown",
   "source": [
    "## Standard Datatypes"
   ],
   "metadata": {}
  },
  {
   "cell_type": "markdown",
   "source": [
    "The 4 main standard data types in python are: `int`, `float`, `str` and `bool`"
   ],
   "metadata": {}
  },
  {
   "cell_type": "code",
   "execution_count": 1,
   "source": [
    "type(100), type(2.5), type('Hello World'), type(True)"
   ],
   "outputs": [
    {
     "output_type": "execute_result",
     "data": {
      "text/plain": [
       "(int, float, str, bool)"
      ]
     },
     "metadata": {},
     "execution_count": 1
    }
   ],
   "metadata": {}
  },
  {
   "cell_type": "markdown",
   "source": [
    "Python is a dynamically typed language (i.e. data types are automatically inferred at runtime)"
   ],
   "metadata": {}
  },
  {
   "cell_type": "code",
   "execution_count": 2,
   "source": [
    "x = 42\n",
    "x"
   ],
   "outputs": [
    {
     "output_type": "execute_result",
     "data": {
      "text/plain": [
       "42"
      ]
     },
     "metadata": {},
     "execution_count": 2
    }
   ],
   "metadata": {}
  },
  {
   "cell_type": "markdown",
   "source": [
    "## Numerical Operations"
   ],
   "metadata": {}
  },
  {
   "cell_type": "markdown",
   "source": [
    "Built-in operators include: `+`, `-`, `*`, `/`, `**` (exponent), `%` (modulo), `//` (integer division)"
   ],
   "metadata": {}
  },
  {
   "cell_type": "code",
   "execution_count": 3,
   "source": [
    "3 % 2 # modulo (remainder)"
   ],
   "outputs": [
    {
     "output_type": "execute_result",
     "data": {
      "text/plain": [
       "1"
      ]
     },
     "metadata": {},
     "execution_count": 3
    }
   ],
   "metadata": {}
  },
  {
   "cell_type": "code",
   "execution_count": 4,
   "source": [
    "9**2 # exponent"
   ],
   "outputs": [
    {
     "output_type": "execute_result",
     "data": {
      "text/plain": [
       "81"
      ]
     },
     "metadata": {},
     "execution_count": 4
    }
   ],
   "metadata": {}
  },
  {
   "cell_type": "code",
   "execution_count": 5,
   "source": [
    "58.9 // 10 # also known as a floor division (divide and round down)\n",
    "           # note: the result of any calculation that involves floats or division is a float"
   ],
   "outputs": [
    {
     "output_type": "execute_result",
     "data": {
      "text/plain": [
       "5.0"
      ]
     },
     "metadata": {},
     "execution_count": 5
    }
   ],
   "metadata": {}
  },
  {
   "cell_type": "code",
   "execution_count": 6,
   "source": [
    "int(58.9//10) # type casting to an int"
   ],
   "outputs": [
    {
     "output_type": "execute_result",
     "data": {
      "text/plain": [
       "5"
      ]
     },
     "metadata": {},
     "execution_count": 6
    }
   ],
   "metadata": {}
  },
  {
   "cell_type": "markdown",
   "source": [
    "Operators can be combined with assignment"
   ],
   "metadata": {}
  },
  {
   "cell_type": "code",
   "execution_count": 7,
   "source": [
    "x = 5\n",
    "\n",
    "x += 6 # equivalent to x = x + 6\n",
    "x"
   ],
   "outputs": [
    {
     "output_type": "execute_result",
     "data": {
      "text/plain": [
       "11"
      ]
     },
     "metadata": {},
     "execution_count": 7
    }
   ],
   "metadata": {}
  },
  {
   "cell_type": "markdown",
   "source": [
    "Order of operations follows traditional operator precedence (https://en.wikipedia.org/wiki/Order_of_operations)"
   ],
   "metadata": {}
  },
  {
   "cell_type": "code",
   "execution_count": 8,
   "source": [
    "2 + 3 * 4 # outputs 14, not 20"
   ],
   "outputs": [
    {
     "output_type": "execute_result",
     "data": {
      "text/plain": [
       "14"
      ]
     },
     "metadata": {},
     "execution_count": 8
    }
   ],
   "metadata": {}
  },
  {
   "cell_type": "code",
   "execution_count": 9,
   "source": [
    "(2 + 3) * 4 # enforcing an intended order using brackets"
   ],
   "outputs": [
    {
     "output_type": "execute_result",
     "data": {
      "text/plain": [
       "20"
      ]
     },
     "metadata": {},
     "execution_count": 9
    }
   ],
   "metadata": {}
  },
  {
   "cell_type": "markdown",
   "source": [
    "## Strings"
   ],
   "metadata": {}
  },
  {
   "cell_type": "markdown",
   "source": [
    "`+` can be used to concat strings"
   ],
   "metadata": {}
  },
  {
   "cell_type": "code",
   "execution_count": 10,
   "source": [
    "'Data ' + 'Mining'"
   ],
   "outputs": [
    {
     "output_type": "execute_result",
     "data": {
      "text/plain": [
       "'Data Mining'"
      ]
     },
     "metadata": {},
     "execution_count": 10
    }
   ],
   "metadata": {}
  },
  {
   "cell_type": "markdown",
   "source": [
    "But both must be strings, otherwise you must type cast to `str`"
   ],
   "metadata": {}
  },
  {
   "cell_type": "code",
   "execution_count": 11,
   "source": [
    "course = 'CSEN'\n",
    "code = 911\n",
    "\n",
    "course + str(code)"
   ],
   "outputs": [
    {
     "output_type": "execute_result",
     "data": {
      "text/plain": [
       "'CSEN911'"
      ]
     },
     "metadata": {},
     "execution_count": 11
    }
   ],
   "metadata": {}
  },
  {
   "cell_type": "markdown",
   "source": [
    "Strings have many useful functions built-in, a few examples include...\n",
    "\n",
    "_(Link to full documentation of Python string methods: https://docs.python.org/3/library/stdtypes.html#string-methods)_"
   ],
   "metadata": {}
  },
  {
   "cell_type": "code",
   "execution_count": 12,
   "source": [
    "# Uppercase all letters\n",
    "'An Example String'.upper()"
   ],
   "outputs": [
    {
     "output_type": "execute_result",
     "data": {
      "text/plain": [
       "'AN EXAMPLE STRING'"
      ]
     },
     "metadata": {},
     "execution_count": 12
    }
   ],
   "metadata": {}
  },
  {
   "cell_type": "code",
   "execution_count": 13,
   "source": [
    "# Lowercase all letters\n",
    "'An Example String'.lower()"
   ],
   "outputs": [
    {
     "output_type": "execute_result",
     "data": {
      "text/plain": [
       "'an example string'"
      ]
     },
     "metadata": {},
     "execution_count": 13
    }
   ],
   "metadata": {}
  },
  {
   "cell_type": "code",
   "execution_count": 14,
   "source": [
    "# Strip trailing whitespaces\n",
    "'              An Example String       '.strip()"
   ],
   "outputs": [
    {
     "output_type": "execute_result",
     "data": {
      "text/plain": [
       "'An Example String'"
      ]
     },
     "metadata": {},
     "execution_count": 14
    }
   ],
   "metadata": {}
  },
  {
   "cell_type": "code",
   "execution_count": 15,
   "source": [
    "# Replace certain characters\n",
    "'An Example String'.replace(' ', '_')"
   ],
   "outputs": [
    {
     "output_type": "execute_result",
     "data": {
      "text/plain": [
       "'An_Example_String'"
      ]
     },
     "metadata": {},
     "execution_count": 15
    }
   ],
   "metadata": {}
  },
  {
   "cell_type": "markdown",
   "source": [
    "## String Formatting"
   ],
   "metadata": {}
  },
  {
   "cell_type": "code",
   "execution_count": 16,
   "source": [
    "# As opposed to the traditional method of concatenation\n",
    "name = 'World'\n",
    "\n",
    "'Hello ' + name + '!'"
   ],
   "outputs": [
    {
     "output_type": "execute_result",
     "data": {
      "text/plain": [
       "'Hello World!'"
      ]
     },
     "metadata": {},
     "execution_count": 16
    }
   ],
   "metadata": {}
  },
  {
   "cell_type": "code",
   "execution_count": 17,
   "source": [
    "# Substitute/format part of a string with a variable\n",
    "name = 'World'\n",
    "\n",
    "'Hello {}!'.format(name)"
   ],
   "outputs": [
    {
     "output_type": "execute_result",
     "data": {
      "text/plain": [
       "'Hello World!'"
      ]
     },
     "metadata": {},
     "execution_count": 17
    }
   ],
   "metadata": {}
  },
  {
   "cell_type": "code",
   "execution_count": 18,
   "source": [
    "# Or alternatively\n",
    "f'Hello {name}!'"
   ],
   "outputs": [
    {
     "output_type": "execute_result",
     "data": {
      "text/plain": [
       "'Hello World!'"
      ]
     },
     "metadata": {},
     "execution_count": 18
    }
   ],
   "metadata": {}
  },
  {
   "cell_type": "markdown",
   "source": [
    "## Boolean and Comparisons"
   ],
   "metadata": {}
  },
  {
   "cell_type": "markdown",
   "source": [
    "Boolean true and false in python are written: `True`, `False`\n",
    "\n",
    "Can be combined with the logical operators: `and`, `or`, `not`"
   ],
   "metadata": {}
  },
  {
   "cell_type": "code",
   "execution_count": 19,
   "source": [
    "print(True and False)\n",
    "print(True or False)\n",
    "print(not False)"
   ],
   "outputs": [
    {
     "output_type": "stream",
     "name": "stdout",
     "text": [
      "False\n",
      "True\n",
      "True\n"
     ]
    }
   ],
   "metadata": {}
  },
  {
   "cell_type": "code",
   "execution_count": 20,
   "source": [
    "x = True\n",
    "y = False\n",
    "\n",
    "\n",
    "x and not y"
   ],
   "outputs": [
    {
     "output_type": "execute_result",
     "data": {
      "text/plain": [
       "True"
      ]
     },
     "metadata": {},
     "execution_count": 20
    }
   ],
   "metadata": {}
  },
  {
   "cell_type": "markdown",
   "source": [
    "Comparisons use the following operators: `==` (equal), `!=` (not equal), `<` (less than), `>` (greater than), `<=` (less than or equal), `>=` (greater than or equal)"
   ],
   "metadata": {}
  },
  {
   "cell_type": "code",
   "execution_count": 21,
   "source": [
    "a = 2\n",
    "b = 4\n",
    "\n",
    "print(a == b)\n",
    "print(a != b)\n",
    "print(a < b)\n",
    "print(a > b)\n",
    "print(a <= b)\n",
    "print(a >= b)"
   ],
   "outputs": [
    {
     "output_type": "stream",
     "name": "stdout",
     "text": [
      "False\n",
      "True\n",
      "True\n",
      "False\n",
      "True\n",
      "False\n"
     ]
    }
   ],
   "metadata": {}
  },
  {
   "cell_type": "markdown",
   "source": [
    "Numeric types can be compared together"
   ],
   "metadata": {}
  },
  {
   "cell_type": "code",
   "execution_count": 22,
   "source": [
    "42 == 42.0"
   ],
   "outputs": [
    {
     "output_type": "execute_result",
     "data": {
      "text/plain": [
       "True"
      ]
     },
     "metadata": {},
     "execution_count": 22
    }
   ],
   "metadata": {}
  },
  {
   "cell_type": "markdown",
   "source": [
    "Strings can also be compared using comparison operators\n",
    "\n",
    "Note: `<`,`>` comparison works by using [lexicographical ordering](https://stackoverflow.com/questions/4806911/string-comparison-technique-used-by-python) based on the characters' [Unicode value](https://docs.python.org/3/reference/expressions.html#id19)"
   ],
   "metadata": {}
  },
  {
   "cell_type": "code",
   "execution_count": 23,
   "source": [
    "'abc' == 'abc'"
   ],
   "outputs": [
    {
     "output_type": "execute_result",
     "data": {
      "text/plain": [
       "True"
      ]
     },
     "metadata": {},
     "execution_count": 23
    }
   ],
   "metadata": {}
  },
  {
   "cell_type": "code",
   "execution_count": 24,
   "source": [
    "'2019Q1' < '2020Q2'"
   ],
   "outputs": [
    {
     "output_type": "execute_result",
     "data": {
      "text/plain": [
       "True"
      ]
     },
     "metadata": {},
     "execution_count": 24
    }
   ],
   "metadata": {}
  },
  {
   "cell_type": "markdown",
   "source": [
    "String comparison is case-sensitive by default"
   ],
   "metadata": {}
  },
  {
   "cell_type": "code",
   "execution_count": 25,
   "source": [
    "'XYZ' == 'xyz'"
   ],
   "outputs": [
    {
     "output_type": "execute_result",
     "data": {
      "text/plain": [
       "False"
      ]
     },
     "metadata": {},
     "execution_count": 25
    }
   ],
   "metadata": {}
  },
  {
   "cell_type": "markdown",
   "source": [
    "Strings should be typecasted to int/float before comparing with a numeric value"
   ],
   "metadata": {}
  },
  {
   "cell_type": "code",
   "execution_count": 26,
   "source": [
    "'123' == 123"
   ],
   "outputs": [
    {
     "output_type": "execute_result",
     "data": {
      "text/plain": [
       "False"
      ]
     },
     "metadata": {},
     "execution_count": 26
    }
   ],
   "metadata": {}
  },
  {
   "cell_type": "code",
   "execution_count": 27,
   "source": [
    "int('123') == 123"
   ],
   "outputs": [
    {
     "output_type": "execute_result",
     "data": {
      "text/plain": [
       "True"
      ]
     },
     "metadata": {},
     "execution_count": 27
    }
   ],
   "metadata": {}
  },
  {
   "cell_type": "markdown",
   "source": [
    "`None` is the Python equivalent of `null` in Java"
   ],
   "metadata": {}
  },
  {
   "cell_type": "code",
   "execution_count": 28,
   "source": [
    "billing_address = None\n",
    "\n",
    "# note the use of 'is' as opposed to '=='\n",
    "billing_address is None"
   ],
   "outputs": [
    {
     "output_type": "execute_result",
     "data": {
      "text/plain": [
       "True"
      ]
     },
     "metadata": {},
     "execution_count": 28
    }
   ],
   "metadata": {}
  },
  {
   "cell_type": "markdown",
   "source": [
    "## Python Collections & Data Structures"
   ],
   "metadata": {}
  },
  {
   "cell_type": "markdown",
   "source": [
    "Python's native data structures are: `list`, `tuple`, `dict` and `set`"
   ],
   "metadata": {}
  },
  {
   "cell_type": "code",
   "execution_count": 29,
   "source": [
    "lst = [10, 20, 30, 40, 50, 60] # square brackets: a list (mutable, variable size, can be modified)\n",
    "tup = (10, 20, 30, 40, 50, 60) # round brackets: a tuple (immutable, fixed size, cannot be modified)\n",
    "dct = {\"January\": 1, \"February\": 2, \"March\": 3} # curly braces with keys: a dictionary/dict (mutable, variable size, can be modified)"
   ],
   "outputs": [],
   "metadata": {}
  },
  {
   "cell_type": "markdown",
   "source": [
    "### Lists"
   ],
   "metadata": {}
  },
  {
   "cell_type": "code",
   "execution_count": 30,
   "source": [
    "lst = [10, 20, 30, 40, 50, 60] # square brackets: a list (mutable)"
   ],
   "outputs": [],
   "metadata": {}
  },
  {
   "cell_type": "markdown",
   "source": [
    "Getting the length of an array (number of elements it contains)"
   ],
   "metadata": {}
  },
  {
   "cell_type": "code",
   "execution_count": 31,
   "source": [
    "len(lst)"
   ],
   "outputs": [
    {
     "output_type": "execute_result",
     "data": {
      "text/plain": [
       "6"
      ]
     },
     "metadata": {},
     "execution_count": 31
    }
   ],
   "metadata": {}
  },
  {
   "cell_type": "markdown",
   "source": [
    "Accessing elements in arrays/tuples/sets can be done using position indexing"
   ],
   "metadata": {}
  },
  {
   "cell_type": "code",
   "execution_count": 32,
   "source": [
    "lst[0]"
   ],
   "outputs": [
    {
     "output_type": "execute_result",
     "data": {
      "text/plain": [
       "10"
      ]
     },
     "metadata": {},
     "execution_count": 32
    }
   ],
   "metadata": {}
  },
  {
   "cell_type": "code",
   "execution_count": 33,
   "source": [
    "lst[-1] # getting the last element using negative indexing"
   ],
   "outputs": [
    {
     "output_type": "execute_result",
     "data": {
      "text/plain": [
       "60"
      ]
     },
     "metadata": {},
     "execution_count": 33
    }
   ],
   "metadata": {}
  },
  {
   "cell_type": "markdown",
   "source": [
    "Assigning a new value to a specific array position"
   ],
   "metadata": {}
  },
  {
   "cell_type": "code",
   "execution_count": 34,
   "source": [
    "lst[0] = 999\n",
    "lst"
   ],
   "outputs": [
    {
     "output_type": "execute_result",
     "data": {
      "text/plain": [
       "[999, 20, 30, 40, 50, 60]"
      ]
     },
     "metadata": {},
     "execution_count": 34
    }
   ],
   "metadata": {}
  },
  {
   "cell_type": "markdown",
   "source": [
    "Python also natively supports slicing using the format: `array[start:stop:step]`"
   ],
   "metadata": {}
  },
  {
   "cell_type": "markdown",
   "source": [
    "Let's try accessing the first 3 elements"
   ],
   "metadata": {}
  },
  {
   "cell_type": "code",
   "execution_count": 35,
   "source": [
    "lst[:3] # start is zero by default, so it can be omitted; and the stop index is always excluded"
   ],
   "outputs": [
    {
     "output_type": "execute_result",
     "data": {
      "text/plain": [
       "[999, 20, 30]"
      ]
     },
     "metadata": {},
     "execution_count": 35
    }
   ],
   "metadata": {}
  },
  {
   "cell_type": "markdown",
   "source": [
    "Accessing from the 4th element till the end"
   ],
   "metadata": {}
  },
  {
   "cell_type": "code",
   "execution_count": 36,
   "source": [
    "lst[3:]"
   ],
   "outputs": [
    {
     "output_type": "execute_result",
     "data": {
      "text/plain": [
       "[40, 50, 60]"
      ]
     },
     "metadata": {},
     "execution_count": 36
    }
   ],
   "metadata": {}
  },
  {
   "cell_type": "markdown",
   "source": [
    "Getting every other element"
   ],
   "metadata": {}
  },
  {
   "cell_type": "code",
   "execution_count": 37,
   "source": [
    "lst[::2]"
   ],
   "outputs": [
    {
     "output_type": "execute_result",
     "data": {
      "text/plain": [
       "[999, 30, 50]"
      ]
     },
     "metadata": {},
     "execution_count": 37
    }
   ],
   "metadata": {}
  },
  {
   "cell_type": "markdown",
   "source": [
    "We can add elements to the array using the `append` instance function"
   ],
   "metadata": {}
  },
  {
   "cell_type": "code",
   "execution_count": 38,
   "source": [
    "lst.append(70)\n",
    "lst"
   ],
   "outputs": [
    {
     "output_type": "execute_result",
     "data": {
      "text/plain": [
       "[999, 20, 30, 40, 50, 60, 70]"
      ]
     },
     "metadata": {},
     "execution_count": 38
    }
   ],
   "metadata": {}
  },
  {
   "cell_type": "markdown",
   "source": [
    "`+` operator can be used to concat arrays"
   ],
   "metadata": {}
  },
  {
   "cell_type": "code",
   "execution_count": 39,
   "source": [
    "lst + [100, 200, 300]"
   ],
   "outputs": [
    {
     "output_type": "execute_result",
     "data": {
      "text/plain": [
       "[999, 20, 30, 40, 50, 60, 70, 100, 200, 300]"
      ]
     },
     "metadata": {},
     "execution_count": 39
    }
   ],
   "metadata": {}
  },
  {
   "cell_type": "markdown",
   "source": [
    "`*` operator can be used to repeat arrays"
   ],
   "metadata": {}
  },
  {
   "cell_type": "code",
   "execution_count": 40,
   "source": [
    "[1,2] * 10"
   ],
   "outputs": [
    {
     "output_type": "execute_result",
     "data": {
      "text/plain": [
       "[1, 2, 1, 2, 1, 2, 1, 2, 1, 2, 1, 2, 1, 2, 1, 2, 1, 2, 1, 2]"
      ]
     },
     "metadata": {},
     "execution_count": 40
    }
   ],
   "metadata": {}
  },
  {
   "cell_type": "markdown",
   "source": [
    "Note: assignment never copies data; like Java/C, you pass on a pointer."
   ],
   "metadata": {}
  },
  {
   "cell_type": "code",
   "execution_count": 41,
   "source": [
    "a = [1,2,3,4]\n",
    "b = a\n",
    "b.append(5)\n",
    "print('Is b the same object as a?', a is b)\n",
    "print('original array:         ', a)\n",
    "print('array we assigned to b: ', b)"
   ],
   "outputs": [
    {
     "output_type": "stream",
     "name": "stdout",
     "text": [
      "Is b the same object as a? True\n",
      "original array:          [1, 2, 3, 4, 5]\n",
      "array we assigned to b:  [1, 2, 3, 4, 5]\n"
     ]
    }
   ],
   "metadata": {}
  },
  {
   "cell_type": "code",
   "execution_count": 42,
   "source": [
    "a = [1,2,3,4]\n",
    "# use the copy instance method to copy the list instead\n",
    "b = a.copy()\n",
    "b.append(5)\n",
    "print('Is b the same object as a?', a is b)\n",
    "print('original array:         ', a)\n",
    "print('array we assigned to b: ', b)"
   ],
   "outputs": [
    {
     "output_type": "stream",
     "name": "stdout",
     "text": [
      "Is b the same object as a? False\n",
      "original array:          [1, 2, 3, 4]\n",
      "array we assigned to b:  [1, 2, 3, 4, 5]\n"
     ]
    }
   ],
   "metadata": {}
  },
  {
   "cell_type": "markdown",
   "source": [
    "Collections can be nested\n",
    "\n",
    "As an example, if the following 3x3 matrix is stored in a variable called `m`\n",
    "\n",
    "|     |     |     |\n",
    "| --- | --- | --- |\n",
    "| 1   | 2   | 3   |\n",
    "| 4   | 5   | 6   |\n",
    "| 7   | 8   | 9   |\n",
    "\n",
    "Specific values can be indexed using the pattern `m[row][column]`\n",
    "\n",
    "|           |           |           |\n",
    "| --------- | --------- | --------- |\n",
    "| `m[0][0]` | `m[0][1]` | `m[0][2]` |\n",
    "| `m[1][0]` | `m[1][1]` | `m[1][2]` |\n",
    "| `m[2][0]` | `m[2][1]` | `m[2][2]` |"
   ],
   "metadata": {}
  },
  {
   "cell_type": "code",
   "execution_count": 43,
   "source": [
    "# Side note: code within brackets can be written over several lines\n",
    "m = [\n",
    "    [1,2,3],\n",
    "    [4,5,6],\n",
    "    [7,8,9]\n",
    "]\n",
    "m"
   ],
   "outputs": [
    {
     "output_type": "execute_result",
     "data": {
      "text/plain": [
       "[[1, 2, 3], [4, 5, 6], [7, 8, 9]]"
      ]
     },
     "metadata": {},
     "execution_count": 43
    }
   ],
   "metadata": {}
  },
  {
   "cell_type": "code",
   "execution_count": 44,
   "source": [
    "m[0][1] # first row, second column "
   ],
   "outputs": [
    {
     "output_type": "execute_result",
     "data": {
      "text/plain": [
       "2"
      ]
     },
     "metadata": {},
     "execution_count": 44
    }
   ],
   "metadata": {}
  },
  {
   "cell_type": "markdown",
   "source": [
    "**Exercise Break**\n",
    "\n",
    "Solve Exercise(s): 1, 2, 3 & 4"
   ],
   "metadata": {}
  },
  {
   "cell_type": "markdown",
   "source": [
    "### Tuples"
   ],
   "metadata": {}
  },
  {
   "cell_type": "code",
   "execution_count": 45,
   "source": [
    "tup = (10,20,30,40,50,60)"
   ],
   "outputs": [],
   "metadata": {}
  },
  {
   "cell_type": "markdown",
   "source": [
    "Tuples (and strings) can be sliced and indexed like lists."
   ],
   "metadata": {}
  },
  {
   "cell_type": "code",
   "execution_count": 46,
   "source": [
    "tup[-1] # last element"
   ],
   "outputs": [
    {
     "output_type": "execute_result",
     "data": {
      "text/plain": [
       "60"
      ]
     },
     "metadata": {},
     "execution_count": 46
    }
   ],
   "metadata": {}
  },
  {
   "cell_type": "code",
   "execution_count": 47,
   "source": [
    "tup[1:3]"
   ],
   "outputs": [
    {
     "output_type": "execute_result",
     "data": {
      "text/plain": [
       "(20, 30)"
      ]
     },
     "metadata": {},
     "execution_count": 47
    }
   ],
   "metadata": {}
  },
  {
   "cell_type": "code",
   "execution_count": 48,
   "source": [
    "tup[::-1] # reversing a list/tuple/string using slicing with negative step"
   ],
   "outputs": [
    {
     "output_type": "execute_result",
     "data": {
      "text/plain": [
       "(60, 50, 40, 30, 20, 10)"
      ]
     },
     "metadata": {},
     "execution_count": 48
    }
   ],
   "metadata": {}
  },
  {
   "cell_type": "markdown",
   "source": [
    "Unlike lists, tuples are **immutable**. Meaning, tuples are fixed (i.e. no appending, deleting or assigning) after creation.\n",
    "\n",
    "Attempting to assign/append/delete elements throws an error.\n",
    "\n",
    "_Note: ints, floats, strings, tuples and sets are all examples of immutable data types._"
   ],
   "metadata": {}
  },
  {
   "cell_type": "code",
   "execution_count": 49,
   "source": [
    "# uncomment the below line and run it to see what happens\n",
    "# tup[0] = 99"
   ],
   "outputs": [],
   "metadata": {}
  },
  {
   "cell_type": "markdown",
   "source": [
    "Tuples can be **unpacked** over variables (as long as there are as many variables as there are elements in the tuple). Functions can return multiple values using tuples."
   ],
   "metadata": {}
  },
  {
   "cell_type": "code",
   "execution_count": 50,
   "source": [
    "rows, cols = (1000, 20)"
   ],
   "outputs": [],
   "metadata": {}
  },
  {
   "cell_type": "markdown",
   "source": [
    "### Dictionaries"
   ],
   "metadata": {}
  },
  {
   "cell_type": "code",
   "execution_count": 51,
   "source": [
    "months = {\"January\": 1, \"February\": 2, \"March\": 3}"
   ],
   "outputs": [],
   "metadata": {}
  },
  {
   "cell_type": "markdown",
   "source": [
    "Indexing (accessing an element) is done in dictionaries using the key"
   ],
   "metadata": {}
  },
  {
   "cell_type": "code",
   "execution_count": 52,
   "source": [
    "months[\"January\"]"
   ],
   "outputs": [
    {
     "output_type": "execute_result",
     "data": {
      "text/plain": [
       "1"
      ]
     },
     "metadata": {},
     "execution_count": 52
    }
   ],
   "metadata": {}
  },
  {
   "cell_type": "markdown",
   "source": [
    "Assigning a value to a key (if it doesn't exist, it gets created)"
   ],
   "metadata": {}
  },
  {
   "cell_type": "code",
   "execution_count": 53,
   "source": [
    "months[\"April\"] = 4\n",
    "months"
   ],
   "outputs": [
    {
     "output_type": "execute_result",
     "data": {
      "text/plain": [
       "{'January': 1, 'February': 2, 'March': 3, 'April': 4}"
      ]
     },
     "metadata": {},
     "execution_count": 53
    }
   ],
   "metadata": {}
  },
  {
   "cell_type": "markdown",
   "source": [
    "Deleting a key (along with its value) can be done using the `del` statement"
   ],
   "metadata": {}
  },
  {
   "cell_type": "code",
   "execution_count": 54,
   "source": [
    "months[\"Mai\"] = 5\n",
    "print(\"Before deletion: \", months)\n",
    "\n",
    "del months[\"Mai\"]\n",
    "print(\"After deletion: \", months)"
   ],
   "outputs": [
    {
     "output_type": "stream",
     "name": "stdout",
     "text": [
      "Before deletion:  {'January': 1, 'February': 2, 'March': 3, 'April': 4, 'Mai': 5}\n",
      "After deletion:  {'January': 1, 'February': 2, 'March': 3, 'April': 4}\n"
     ]
    }
   ],
   "metadata": {}
  },
  {
   "cell_type": "markdown",
   "source": [
    "### Sets"
   ],
   "metadata": {}
  },
  {
   "cell_type": "markdown",
   "source": [
    "Useful for getting the unique values of a list/tuple"
   ],
   "metadata": {}
  },
  {
   "cell_type": "code",
   "execution_count": 55,
   "source": [
    "colors = [\"White\", \"Blue\", \"Silver\", \"Blue\", \"Black\", \"Red\", \"Red\", \"Green\"]\n",
    "\n",
    "set(colors)"
   ],
   "outputs": [
    {
     "output_type": "execute_result",
     "data": {
      "text/plain": [
       "{'Black', 'Blue', 'Green', 'Red', 'Silver', 'White'}"
      ]
     },
     "metadata": {},
     "execution_count": 55
    }
   ],
   "metadata": {}
  },
  {
   "cell_type": "markdown",
   "source": [
    "Python's `set` supports many set operations such as union, intersection, difference, etc. but are outside the scope of this tutorial. See [python's documentation on sets](https://docs.python.org/3/tutorial/datastructures.html#sets) if interested."
   ],
   "metadata": {}
  },
  {
   "cell_type": "markdown",
   "source": [
    "## Conditionals"
   ],
   "metadata": {}
  },
  {
   "cell_type": "markdown",
   "source": [
    "`None`, `0`, and empty strings/lists/dicts/tuples all evaluate to `False`. All other values are `True`."
   ],
   "metadata": {}
  },
  {
   "cell_type": "code",
   "execution_count": 56,
   "source": [
    "print(bool(0))\n",
    "print(bool(\"\"))\n",
    "print(bool([]))\n",
    "print(bool({}))\n",
    "print(bool(()))"
   ],
   "outputs": [
    {
     "output_type": "stream",
     "name": "stdout",
     "text": [
      "False\n",
      "False\n",
      "False\n",
      "False\n",
      "False\n"
     ]
    }
   ],
   "metadata": {}
  },
  {
   "cell_type": "markdown",
   "source": [
    "Take a note of the syntax. The colon at the end of the `if` and `else`, as well as the indentation of the code block."
   ],
   "metadata": {}
  },
  {
   "cell_type": "code",
   "execution_count": 57,
   "source": [
    "x = 10\n",
    "if x % 2 == 0:\n",
    "    print('x is even!')\n",
    "else:\n",
    "    print('x is odd!')"
   ],
   "outputs": [
    {
     "output_type": "stream",
     "name": "stdout",
     "text": [
      "x is even!\n"
     ]
    }
   ],
   "metadata": {}
  },
  {
   "cell_type": "markdown",
   "source": [
    "Else if statements are written using `elif`"
   ],
   "metadata": {}
  },
  {
   "cell_type": "code",
   "execution_count": 58,
   "source": [
    "x = 10\n",
    "if x < 0:\n",
    "    print('x is negative')\n",
    "elif x > 0:\n",
    "    print('x is positive')\n",
    "else:\n",
    "    print('x is zero')"
   ],
   "outputs": [
    {
     "output_type": "stream",
     "name": "stdout",
     "text": [
      "x is positive\n"
     ]
    }
   ],
   "metadata": {}
  },
  {
   "cell_type": "markdown",
   "source": [
    "Checking if an element exists in an array can be done using the `in` operator"
   ],
   "metadata": {}
  },
  {
   "cell_type": "code",
   "execution_count": 59,
   "source": [
    "grades = ['A', 'C', 'B', 'B']\n",
    "\n",
    "if 'A' in grades:\n",
    "    print('Nice!')\n",
    "elif 'B' in grades:\n",
    "    print('Pretty good!')\n",
    "else:\n",
    "    print('Better luck next time')"
   ],
   "outputs": [
    {
     "output_type": "stream",
     "name": "stdout",
     "text": [
      "Nice!\n"
     ]
    }
   ],
   "metadata": {}
  },
  {
   "cell_type": "markdown",
   "source": [
    "`if` can be used as an inline expression, like Java/C's ternary operator `bool_expr ? val1 : val2`"
   ],
   "metadata": {}
  },
  {
   "cell_type": "code",
   "execution_count": 60,
   "source": [
    "day = \"Monday\"\n",
    "day_type = \"Weekend\" if day == \"Friday\" else \"Weekday\"\n",
    "day_type"
   ],
   "outputs": [
    {
     "output_type": "execute_result",
     "data": {
      "text/plain": [
       "'Weekday'"
      ]
     },
     "metadata": {},
     "execution_count": 60
    }
   ],
   "metadata": {}
  },
  {
   "cell_type": "markdown",
   "source": [
    "**Exercise Break**\n",
    "\n",
    "Solve Exercise(s): 5, 6, 7 & 8"
   ],
   "metadata": {}
  }
 ],
 "metadata": {
  "kernelspec": {
   "name": "python3",
   "display_name": "Python 3.8.11 64-bit ('base': conda)"
  },
  "language_info": {
   "codemirror_mode": {
    "name": "ipython",
    "version": 3
   },
   "file_extension": ".py",
   "mimetype": "text/x-python",
   "name": "python",
   "nbconvert_exporter": "python",
   "pygments_lexer": "ipython3",
   "version": "3.8.11"
  },
  "interpreter": {
   "hash": "e30d263173d80f43dbb1640aa4af531bd6921b470fcea4846da61f88c55a1b44"
  }
 },
 "nbformat": 4,
 "nbformat_minor": 4
}